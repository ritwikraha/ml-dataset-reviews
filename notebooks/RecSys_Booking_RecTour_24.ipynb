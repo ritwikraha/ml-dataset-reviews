{
  "nbformat": 4,
  "nbformat_minor": 0,
  "metadata": {
    "colab": {
      "provenance": [],
      "authorship_tag": "ABX9TyPy0a4Zgndo5IauPgbLpCAH",
      "include_colab_link": true
    },
    "kernelspec": {
      "name": "python3",
      "display_name": "Python 3"
    },
    "language_info": {
      "name": "python"
    }
  },
  "cells": [
    {
      "cell_type": "markdown",
      "metadata": {
        "id": "view-in-github",
        "colab_type": "text"
      },
      "source": [
        "<a href=\"https://colab.research.google.com/github/ritwikraha/ml-dataset-reviews/blob/main/notebooks/RecSys_Booking_RecTour_24.ipynb\" target=\"_parent\"><img src=\"https://colab.research.google.com/assets/colab-badge.svg\" alt=\"Open In Colab\"/></a>"
      ]
    },
    {
      "cell_type": "code",
      "source": [
        "import pandas as pd\n",
        "import numpy as np\n",
        "from sklearn.feature_extraction.text import TfidfVectorizer\n",
        "from sklearn.metrics.pairwise import cosine_similarity\n",
        "from sklearn.preprocessing import MinMaxScaler\n",
        "import nltk\n",
        "from nltk.corpus import stopwords\n",
        "from nltk.tokenize import word_tokenize\n",
        "import re"
      ],
      "metadata": {
        "id": "n5KaBd2lgv6Q"
      },
      "execution_count": null,
      "outputs": []
    },
    {
      "cell_type": "code",
      "source": [
        "# Download necessary NLTK data\n",
        "nltk.download('punkt')\n",
        "nltk.download('stopwords')"
      ],
      "metadata": {
        "id": "m3pIDpuvgxdr"
      },
      "execution_count": null,
      "outputs": []
    },
    {
      "cell_type": "code",
      "source": [
        "# Load the dataset\n",
        "df = pd.read_csv('booking_reviews_dataset.csv')\n",
        "\n",
        "# Preprocess text\n",
        "def preprocess_text(text):\n",
        "    # Convert to lowercase\n",
        "    text = text.lower()\n",
        "    # Remove special characters\n",
        "    text = re.sub(r'[^a-zA-Z\\s]', '', text)\n",
        "    # Tokenize\n",
        "    tokens = word_tokenize(text)\n",
        "    # Remove stopwords\n",
        "    stop_words = set(stopwords.words('english'))\n",
        "    tokens = [t for t in tokens if t not in stop_words]\n",
        "    return ' '.join(tokens)\n"
      ],
      "metadata": {
        "id": "8YCMEJUhhZxp"
      },
      "execution_count": null,
      "outputs": []
    },
    {
      "cell_type": "code",
      "source": [
        "# Combine positive and negative reviews\n",
        "df['combined_review'] = df['review_positive'] + ' ' + df['review_negative'].fillna('')\n",
        "df['combined_review'] = df['combined_review'].apply(preprocess_text)\n",
        "\n",
        "# Create TF-IDF vectors\n",
        "tfidf = TfidfVectorizer(max_features=5000)\n",
        "tfidf_matrix = tfidf.fit_transform(df['combined_review'])\n",
        "\n",
        "# Calculate cosine similarity\n",
        "cosine_sim = cosine_similarity(tfidf_matrix, tfidf_matrix)\n",
        "\n",
        "# Normalize numeric features\n",
        "scaler = MinMaxScaler()\n",
        "df[['review_score', 'review_helpful_votes', 'room_nights']] = scaler.fit_transform(df[['review_score', 'review_helpful_votes', 'room_nights']])\n",
        "\n",
        "# Calculate weighted score\n",
        "df['weighted_score'] = (df['review_score'] * 0.4 +\n",
        "                        df['review_helpful_votes'] * 0.3 +\n",
        "                        df['room_nights'] * 0.3)"
      ],
      "metadata": {
        "id": "JPqanDWihej5"
      },
      "execution_count": null,
      "outputs": []
    },
    {
      "cell_type": "code",
      "source": [
        "def get_recommendations(accommodation_id, user_id, top_n=10):\n",
        "    # Get reviews for the given accommodation\n",
        "    accommodation_reviews = df[df['accommodation_id'] == accommodation_id]\n",
        "\n",
        "    if accommodation_reviews.empty:\n",
        "        return []\n",
        "\n",
        "    # Get the user's past reviews\n",
        "    user_reviews = df[df['user_id'] == user_id]\n",
        "\n",
        "    if user_reviews.empty:\n",
        "        # If user has no reviews, return top reviews based on weighted score\n",
        "        return accommodation_reviews.sort_values('weighted_score', ascending=False)['review_id'].head(top_n).tolist()\n",
        "\n",
        "    # Get the average feature values for the user\n",
        "    user_avg_features = user_reviews[['review_score', 'review_helpful_votes', 'room_nights']].mean()\n",
        "\n",
        "    # Calculate the similarity between each review and the user's average features\n",
        "    accommodation_reviews['user_similarity'] = accommodation_reviews.apply(\n",
        "        lambda row: cosine_similarity(\n",
        "            user_avg_features.values.reshape(1, -1),\n",
        "            row[['review_score', 'review_helpful_votes', 'room_nights']].values.reshape(1, -1)\n",
        "        )[0][0],\n",
        "        axis=1\n",
        "    )\n",
        "\n",
        "    # Combine content-based and collaborative filtering scores\n",
        "    accommodation_reviews['final_score'] = (\n",
        "        accommodation_reviews['weighted_score'] * 0.7 +\n",
        "        accommodation_reviews['user_similarity'] * 0.3\n",
        "    )\n",
        "\n",
        "    # Sort and return top N review IDs\n",
        "    return accommodation_reviews.sort_values('final_score', ascending=False)['review_id'].head(top_n).tolist()\n"
      ],
      "metadata": {
        "id": "vogC8LP2hhMt"
      },
      "execution_count": null,
      "outputs": []
    },
    {
      "cell_type": "code",
      "source": [
        "# Generate recommendations for all accommodation-user pairs\n",
        "results = []\n",
        "for accommodation_id in df['accommodation_id'].unique():\n",
        "    for user_id in df['user_id'].unique():\n",
        "        recommendations = get_recommendations(accommodation_id, user_id)\n",
        "        results.append([accommodation_id, user_id] + recommendations)\n"
      ],
      "metadata": {
        "id": "cC2bBXAJhqky"
      },
      "execution_count": null,
      "outputs": []
    },
    {
      "cell_type": "code",
      "execution_count": null,
      "metadata": {
        "id": "hlQHchTfgj3T"
      },
      "outputs": [],
      "source": [
        "# Create the submission DataFrame\n",
        "submission_df = pd.DataFrame(results, columns=['accommodation_id', 'user_id'] + [f'review_{i+1}' for i in range(10)])\n",
        "\n",
        "# Save the submission file\n",
        "submission_df.to_csv('recommendation_submission.csv', index=False)\n",
        "\n",
        "print(\"Recommendation system completed. Submission file saved as 'recommendation_submission.csv'.\")"
      ]
    }
  ]
}